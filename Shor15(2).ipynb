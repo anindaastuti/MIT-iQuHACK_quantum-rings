{
 "cells": [
  {
   "cell_type": "markdown",
   "id": "255d7590-bf87-47d8-b0c6-ae67aef1403c",
   "metadata": {},
   "source": [
    "See how to use Shor's algorithm to factor 15 here:    <b><a href=\"https://portal.quantumrings.com/doc/Shors.html\">Shor15</a></b>"
   ]
  },
  {
   "cell_type": "markdown",
   "id": "546dce63-062e-49d0-922a-ab233b397a70",
   "metadata": {},
   "source": [
    "<i><b>Source code to factorize 15</b></i>"
   ]
  },
  {
   "cell_type": "markdown",
   "id": "85955e61-324f-4412-9bac-e6dd69699824",
   "metadata": {},
   "source": [
    "Note: Be sure to use your API token and your account name."
   ]
  },
  {
   "cell_type": "markdown",
   "id": "ef5152de-a79d-4a8e-9870-77a2d13e265e",
   "metadata": {},
   "source": [
    "Step 1. Import the required modules and obtain the backend"
   ]
  },
  {
   "cell_type": "code",
   "execution_count": 1,
   "id": "1098cc1a-6195-4fb4-87bb-9001779b002c",
   "metadata": {},
   "outputs": [],
   "source": [
    "import os\n",
    "import numpy as np\n",
    "import math\n",
    "\n",
    "import QuantumRingsLib\n",
    "from QuantumRingsLib import QuantumRegister, ClassicalRegister, QuantumCircuit\n",
    "from QuantumRingsLib import QuantumRingsProvider\n",
    "from QuantumRingsLib import job_monitor\n",
    "\n",
    "from matplotlib import pyplot as plt\n",
    "from dotenv import load_dotenv\n",
    "\n",
    "from fractions import Fraction\n",
    "from math import gcd"
   ]
  },
  {
   "cell_type": "code",
   "execution_count": 2,
   "id": "8e81787b",
   "metadata": {},
   "outputs": [],
   "source": [
    "load_dotenv() # take environment variables from `.env` file\n",
    "QUANTUM_RINGS_TOKEN = os.getenv(\"QUANTUM_RINGS_TOKEN\", \"\")\n",
    "QUANTUM_RINGS_ACCOUNT_NAME = os.getenv(\"QUANTUM_RINGS_ACCOUNT_NAME\", \"\")"
   ]
  },
  {
   "cell_type": "code",
   "execution_count": 3,
   "id": "642c97d5",
   "metadata": {},
   "outputs": [
    {
     "name": "stdout",
     "output_type": "stream",
     "text": [
      "Max Qubits: 128\n"
     ]
    }
   ],
   "source": [
    "provider = QuantumRingsProvider(token=QUANTUM_RINGS_TOKEN, name=QUANTUM_RINGS_ACCOUNT_NAME)\n",
    "backend = provider.get_backend(\"scarlet_quantum_rings\")\n",
    "print(f\"Max Qubits: {provider.active_account()['max_qubits']}\")"
   ]
  },
  {
   "cell_type": "markdown",
   "id": "f92608ce-86bd-4760-bc1c-ca7e722ae280",
   "metadata": {},
   "source": [
    "Step 2. Define the core methods"
   ]
  },
  {
   "cell_type": "code",
   "execution_count": 4,
   "id": "f32086a1-a980-4d19-8f14-0adcaae9c9c9",
   "metadata": {},
   "outputs": [],
   "source": [
    "def iqft_cct(qc, b, n):\n",
    "    \"\"\"\n",
    "    The inverse QFT circuit\n",
    "    Args:\n",
    "        qc (QuantumCircuit):\n",
    "                The quantum circuit\n",
    "        b (QuantumRegister):\n",
    "                The target register\n",
    "        n (int):\n",
    "                The number of qubits in the registers to use\n",
    "\n",
    "    Returns:\n",
    "        None\n",
    "    \"\"\"\n",
    "\n",
    "    for i in range (n):\n",
    "        for j in range (1, i+1):\n",
    "            # for inverse transform, we have to use negative angles\n",
    "            qc.cu1(-math.pi / 2**(i-j+1), b[j - 1], b[i])\n",
    "        # the H transform should be done after the rotations\n",
    "        qc.h(b[i])\n",
    "    qc.barrier()\n",
    "\n",
    "def plot_histogram(counts, title=\"\"):\n",
    "    \"\"\"\n",
    "    Plots the histogram of the counts\n",
    "    Args:\n",
    "        counts (dict):\n",
    "            The dictionary containing the counts of states\n",
    "        titles (str):\n",
    "            A title for the graph.\n",
    "\n",
    "    Returns:\n",
    "        None\n",
    "    \"\"\"\n",
    "    fig, ax = plt.subplots(figsize=(10, 7))\n",
    "    plt.xlabel(\"States\")\n",
    "    plt.ylabel(\"Counts\")\n",
    "    mylist = [key for key, val in counts.items() for _ in range(val)]\n",
    "\n",
    "    unique, inverse = np.unique(mylist, return_inverse=True)\n",
    "    bin_counts = np.bincount(inverse)\n",
    "\n",
    "    plt.bar(unique, bin_counts)\n",
    "\n",
    "    maxFreq = max(counts.values())\n",
    "    plt.ylim(ymax=np.ceil(maxFreq / 10) * 10 if maxFreq % 10 else maxFreq + 10)\n",
    "    # Show plot\n",
    "    plt.title(title)\n",
    "    plt.show()\n",
    "    return"
   ]
  },
  {
   "cell_type": "markdown",
   "id": "2f211c13-04db-4f78-b700-5bde24875ab8",
   "metadata": {},
   "source": [
    "Step 3. Perform the algorithm"
   ]
  },
  {
   "cell_type": "code",
   "execution_count": 5,
   "id": "64c750f2",
   "metadata": {},
   "outputs": [
    {
     "name": "stdout",
     "output_type": "stream",
     "text": [
      "Source Qubits: 3\n",
      "Target Qubits: 4\n",
      "Total Qubits: 7\n"
     ]
    }
   ],
   "source": [
    "shots = 1024\n",
    "a = 7 # Base\n",
    "N = 15 # Modulus\n",
    "source_qubits = math.ceil(math.log2(a)) # Number of qubits for superposition\n",
    "target_qubits = math.ceil(math.log2(N)) # Number of qubits for computation\n",
    "total_qubits = source_qubits + target_qubits\n",
    "print(f\"Source Qubits: {source_qubits}\")\n",
    "print(f\"Target Qubits: {target_qubits}\")\n",
    "print(f\"Total Qubits: {total_qubits}\")"
   ]
  },
  {
   "cell_type": "code",
   "execution_count": 6,
   "id": "90af8eb2-e56e-46ff-baf2-fed0c08306f9",
   "metadata": {},
   "outputs": [
    {
     "name": "stdout",
     "output_type": "stream",
     "text": [
      "       ┌───┐ ╎                                     ╎ ┌───┐               »\n",
      "q[0]: ■┤ H ├─╎─────────────────────────────────────╎─┤ H ├───────■───────»\n",
      "       ├───┤ ╎                                     ╎ └───┘┌──────┴──────┐»\n",
      "q[1]: ■┤ H ├─╎──────────────────■─────────■────────╎──────┤ U1(-pi/2)   ├»\n",
      "       ├───┤ ╎                  │         │        ╎      └─────────────┘»\n",
      "q[2]: ■┤ H ├─╎───■────■─────────│─────────│────────╎─────────────────────»\n",
      "       └───┘ ╎   │    │       ┌─┴─┐       │        ╎                     »\n",
      "q[3]: ■──────╎───│────│───────┤ X ├──■────│────────╎─────────────────────»\n",
      "             ╎ ┌─┴─┐  │  ┌───┐└─┬─┘  │    │  ┌───┐ ╎                     »\n",
      "q[4]: ■──────╎─┤ X ├──│──┤ X ├──│────│────■──┤ X ├─╎─────────────────────»\n",
      "             ╎ └───┘┌─┴─┐└─┬─┘  │  ┌─┴─┐  │  └─┬─┘ ╎                     »\n",
      "q[5]: ■──────╎──────┤ X ├──│────■──┤ X ├──│────│───╎─────────────────────»\n",
      "       ┌───┐ ╎      └───┘  │       └───┘┌─┴─┐  │   ╎                     »\n",
      "q[6]: ■┤ X ├─╎─────────────■────────────┤ X ├──■───╎─────────────────────»\n",
      "       └───┘ ╎                          └───┘      ╎                     »\n",
      "c: 3/ ■══════════════════════════════════════════════════════════════════»\n",
      "                                                                         »\n",
      "«                                                ╎ ┌───┐           \n",
      "«q[0]: ■────────────■────────────────────────────╎─┤ M ├────────── \n",
      "«       ┌───┐       │                            ╎ └─╥─┘┌───┐      \n",
      "«q[1]: ■┤ H ├───────│──────────────■─────────────╎───║──┤ M ├───── \n",
      "«       └───┘┌──────┴──────┐┌──────┴──────┐┌───┐ ╎   ║  └─╥─┘┌───┐ \n",
      "«q[2]: ■─────┤ U1(-pi/4)   ├┤ U1(-pi/2)   ├┤ H ├─╎───║────║──┤ M ├ \n",
      "«            └─────────────┘└─────────────┘└───┘ ╎   ║    ║  └─╥─┘ \n",
      "«q[3]: ■─────────────────────────────────────────╎───║────║────║── \n",
      "«                                                ╎   ║    ║    ║   \n",
      "«q[4]: ■─────────────────────────────────────────╎───║────║────║── \n",
      "«                                                ╎   ║    ║    ║   \n",
      "«q[5]: ■─────────────────────────────────────────╎───║────║────║── \n",
      "«                                                ╎   ║    ║    ║   \n",
      "«q[6]: ■─────────────────────────────────────────╎───║────║────║── \n",
      "«                                                ╎   ║    ║    ║   \n",
      "«c: 3/ ■═════════════════════════════════════════════╩════╩════╩══ \n",
      "«                                                    0    1    2   \n"
     ]
    }
   ],
   "source": [
    "# Shor's algorithm to factorize 15 using 7^x mod 15.\n",
    "q = QuantumRegister(total_qubits, 'q')\n",
    "c = ClassicalRegister(source_qubits, 'c')\n",
    "qc = QuantumCircuit(q, c)\n",
    "\n",
    "# Step 1: Initialization of source qubits in superposition and target qubits in |1>\n",
    "for i in range(source_qubits):\n",
    "    qc.h(i)\n",
    "qc.x(qc.num_qubits - 1)\n",
    "qc.barrier()\n",
    "\n",
    "# Step 2: Modular exponentiation (Controlled Multiplication: 7^x mod 15)\n",
    "qc.cx(q[2],q[4])\n",
    "qc.cx(q[2],q[5])\n",
    "qc.cx(q[6],q[4])\n",
    "qc.ccx(q[1],q[5],q[3])\n",
    "qc.cx(q[3],q[5])\n",
    "qc.ccx(q[1],q[4],q[6])\n",
    "qc.cx(q[6],q[4])\n",
    "qc.barrier()\n",
    "\n",
    "# Step 3: Apply Inverse Quantum Fourier Transform (IQFT)\n",
    "iqft_cct(qc, q, source_qubits)\n",
    "\n",
    "# Step 4: Measurement of source qubits\n",
    "for i in range(source_qubits):\n",
    "    qc.measure(q[i], c[i])\n",
    "\n",
    "# Draw the circuit\n",
    "qc.draw('mpl')"
   ]
  },
  {
   "cell_type": "markdown",
   "id": "72783cb3-a464-4a9c-98ac-9ad533f53222",
   "metadata": {},
   "source": [
    "The circuit to factor 15 shown above."
   ]
  },
  {
   "cell_type": "code",
   "execution_count": 7,
   "id": "1923d677-ed19-4892-a44e-66f05fca3406",
   "metadata": {},
   "outputs": [
    {
     "name": "stdout",
     "output_type": "stream",
     "text": [
      "Job Running\n",
      "Job Done.\n",
      "Ending Job Monitor\n"
     ]
    }
   ],
   "source": [
    "# Execute the circuit\n",
    "job = backend.run(qc, shots=shots)\n",
    "job_monitor(job)\n",
    "result = job.result()\n",
    "counts = result.get_counts()"
   ]
  },
  {
   "cell_type": "code",
   "execution_count": 8,
   "id": "0eeab482",
   "metadata": {},
   "outputs": [
    {
     "name": "stdout",
     "output_type": "stream",
     "text": [
      "Counts:  {'000': 239, '010': 260, '100': 245, '110': 280}\n"
     ]
    },
    {
     "data": {
      "image/png": "[encoded data removed]",
      "text/plain": [
       "<Figure size 1000x700 with 1 Axes>"
      ]
     },
     "metadata": {},
     "output_type": "display_data"
    }
   ],
   "source": [
    "# visualize\n",
    "print(\"Counts: \", counts)\n",
    "plot_histogram(counts)"
   ]
  },
  {
   "cell_type": "code",
   "execution_count": 12,
   "id": "3c7cf98b",
   "metadata": {},
   "outputs": [
    {
     "name": "stdout",
     "output_type": "stream",
     "text": [
      "C_values: [0, 2, 4, 6]\n",
      "fractions: [Fraction(0, 1), Fraction(1, 8), Fraction(1, 4), Fraction(3, 8)]\n",
      "denominators: [1, 8, 4, 8]\n",
      "r_candidates: [1, 4, 8]\n",
      "Fount r: 4\n"
     ]
    }
   ],
   "source": [
    "def period_finding(counts, Q):\n",
    "    \"\"\"\n",
    "    Compute the candidate period r using the measurement outcome histogram.\n",
    "    This function processes a dictionary of counts where keys are binary strings\n",
    "    of quantum measurement outcomes. It converts these keys to integer C values,\n",
    "    computes the best rational approximations of C/Q with denominators not exceeding Q,\n",
    "    and collects the unique denominators as candidates for r. The function returns\n",
    "    the smallest candidate r that is strictly greater than 1. If no such candidate\n",
    "    exists, it returns None.\n",
    "    Parameters:\n",
    "        counts (dict): A dictionary where keys are measurement outcomes represented\n",
    "                       as binary strings.\n",
    "        Q (int): The denominator used to form the fraction C/Q, typically representing\n",
    "                 the size of the quantum state space.\n",
    "    Returns:\n",
    "        int or None: The smallest candidate period r (greater than 1), or None if no candidate is found.\n",
    "    \"\"\"\n",
    "    C_values = [int(bitstr, 2) for bitstr in counts.keys()]\n",
    "    fractions = [Fraction(C, Q).limit_denominator(Q) for C in C_values]\n",
    "    denominators = [frac.denominator for frac in fractions]\n",
    "    r_candidates = sorted(set(denominators))\n",
    "\n",
    "    print(f\"C_values: {C_values}\")\n",
    "    print(f\"fractions: {fractions}\")\n",
    "    print(f\"denominators: {denominators}\")\n",
    "    print(f\"r_candidates: {r_candidates}\")\n",
    "\n",
    "    for r in r_candidates:\n",
    "        if r > 1:\n",
    "            return r\n",
    "    return None\n",
    "\n",
    "Q = 2**target_qubits\n",
    "r = period_finding(counts, Q)\n",
    "print(f\"Fount r: {r}\")"
   ]
  },
  {
   "cell_type": "markdown",
   "id": "df83cd64",
   "metadata": {},
   "source": [
    "$a^r \\equiv 1 \\pmod N$\n",
    "\n",
    "$a^{(\\frac{r}{2})^2} \\equiv 1 \\pmod N$\n",
    "\n",
    "$a^{(\\frac{r}{2})^2} - 1 \\equiv 0 \\pmod N$\n",
    "\n",
    "$(a^\\frac{r}{2} + 1)(a^\\frac{r}{2} - 1) \\equiv 0 \\pmod N$\n",
    "\n",
    "$Answer = GCD(a^\\frac{r}{2} + 1, N), GCD(a^\\frac{r}{2} - 1, N)$"
   ]
  },
  {
   "cell_type": "code",
   "execution_count": 13,
   "id": "4ac8c911",
   "metadata": {},
   "outputs": [
    {
     "name": "stdout",
     "output_type": "stream",
     "text": [
      "Factors: 5, 3\n"
     ]
    }
   ],
   "source": [
    "# Compute factors\n",
    "factor1 = math.gcd(a**(r//2) + 1, N)\n",
    "factor2 = math.gcd(a**(r//2) - 1, N)\n",
    "print(f\"Factors: {factor1}, {factor2}\")"
   ]
  },
  {
   "cell_type": "markdown",
   "id": "d69fcca9-6545-4f8a-9758-0865e240a57e",
   "metadata": {},
   "source": [
    "A plot of the execution results is shown above. Compare this with the calculated values."
   ]
  },
  {
   "cell_type": "markdown",
   "id": "f4545dfd-da08-4ac1-87c9-b426a92de748",
   "metadata": {},
   "source": [
    "Footnotes\n",
    "\n",
    "[1] This section is based on [10], [14], and [16].\n",
    "\n",
    "[2] https://research.ibm.com/blog/factor-15-shors-algorithm\n",
    "\n",
    "[3] https://en.wikipedia.org/wiki/Integer_factorization_records#Records_for_efforts_by_quantum_computers"
   ]
  }
 ],
 "metadata": {
  "kernelspec": {
   "display_name": "quantum-rings",
   "language": "python",
   "name": "python3"
  },
  "language_info": {
   "codemirror_mode": {
    "name": "ipython",
    "version": 3
   },
   "file_extension": ".py",
   "mimetype": "text/x-python",
   "name": "python",
   "nbconvert_exporter": "python",
   "pygments_lexer": "ipython3",
   "version": "3.11.0"
  }
 },
 "nbformat": 4,
 "nbformat_minor": 5
}
